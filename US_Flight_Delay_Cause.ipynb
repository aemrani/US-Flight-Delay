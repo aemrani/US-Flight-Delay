{
 "cells": [
  {
   "cell_type": "markdown",
   "metadata": {},
   "source": [
    "Flight data visualization using Tableau"
   ]
  },
  {
   "cell_type": "markdown",
   "metadata": {},
   "source": [
    "Author: Arezoo Emrani\n",
    "\n",
    "Link to my Tableau Workbook: \n",
    "New Version:\n",
    "https://public.tableau.com/profile/arezoo.emrani#!/vizhome/USFlightDelayCause_versionII/USFlightDelayCause?publish=yes"
   ]
  },
  {
   "cell_type": "markdown",
   "metadata": {},
   "source": [
    "# Summary"
   ]
  },
  {
   "cell_type": "markdown",
   "metadata": {
    "scrolled": true
   },
   "source": [
    "\n",
    "\n",
    "This dataset is obtained from the RITA website which contains information about flight delays. The dataset I used ranges from 2013-2018. The dataset can be found in the following website:\n",
    "\n",
    "https://www.transtats.bts.gov/OT_Delay/OT_DelayCause1.asp?pn=1\n",
    "\n",
    "I have created the visualizations in Tableau that answer the following questions:\n",
    "\n",
    "1) What are the top carriers that are responsible for the delays in each year?\n",
    "\n",
    "2) How flight delays are distributed over months, years, and carrier types?\n",
    "\n",
    "3) What are the carriers that cause most delays and, what are the airports that contribute for these delays?"
   ]
  },
  {
   "cell_type": "markdown",
   "metadata": {},
   "source": [
    "# Design"
   ]
  },
  {
   "cell_type": "markdown",
   "metadata": {},
   "source": [
    "The answer of first question is in my first design. My initial design choice for the first point of the story was to find the popular career base on the record number. For this reason, I created a bar chart. Also, I wanted to find the most polular career at different years (2013-2018) using Pie chart. Based on the year, the result could be changed. "
   ]
  },
  {
   "cell_type": "markdown",
   "metadata": {},
   "source": [
    "The answer of second question is in my second design. My second design consideration was that I was wondering if there's any way to make a the average delay based on different carriers at different years and months. The following is a Tableau dashboard that analyzes delays  of select airlines in 2009. There is a point, based on the Bar chart, we have less delay results compared to others the reason is that  we only have data for two months. "
   ]
  },
  {
   "cell_type": "markdown",
   "metadata": {},
   "source": [
    "The answer of third question is in my third design. My Third design consideration is to make a geolocation plot for all the airports and then map the delays via a heatmap to it. I thought it would be really cool to do that. But in the original csv file, there was no field for the countries, cities or states. However, I saw there was an airport name field which had all the abbreviations of the airports. Therefore, I changed the field type from string to geolocation and chose the option 'Airport' which actually made me a field which can be plotted in map. The size and also the darkness of the points showed a redundant plot of how much delay was happening in a particular airport. The average total is also average of all delay for each year. \n",
    "The more the delay, the bigger and darker the point is. In these plots, we can see the average delay for various carriers vs different airports. Based on the plot, Southwest Airlines, American, and United Arilines get the most delayed. Also, another result based on these plots is that, the most delayed are in ORD (Chicago), and ATL (Atlanta).  "
   ]
  },
  {
   "cell_type": "markdown",
   "metadata": {},
   "source": [
    "# Feedbacks"
   ]
  },
  {
   "cell_type": "markdown",
   "metadata": {},
   "source": [
    "I have received feedback from Sardar Afra.\n",
    "\n",
    "1. I can appropriately add filters to see which airlines have delays and their causes.\n",
    "\n",
    "2. I'd like the caption section to be short and self explaining. The dashboard is telling a story very smoothly. One line is enough to represent what each page is trying to say. The rest can be visualized by using filters of choice.\n",
    "\n",
    "3. I like the third page of dashboard and in particular the mosaic map as well as representing delays on the US map. It is very informative and simply translates results and findings to actionable/understandable insights and business value. Clients and business partners can easily follow the flow of work."
   ]
  },
  {
   "cell_type": "markdown",
   "metadata": {
    "collapsed": true
   },
   "source": [
    "# Resourses"
   ]
  },
  {
   "cell_type": "markdown",
   "metadata": {},
   "source": [
    "Tableau training videos"
   ]
  }
 ],
 "metadata": {
  "kernelspec": {
   "display_name": "Python 2",
   "language": "python",
   "name": "python2"
  },
  "language_info": {
   "codemirror_mode": {
    "name": "ipython",
    "version": 2
   },
   "file_extension": ".py",
   "mimetype": "text/x-python",
   "name": "python",
   "nbconvert_exporter": "python",
   "pygments_lexer": "ipython2",
   "version": "2.7.13"
  }
 },
 "nbformat": 4,
 "nbformat_minor": 2
}
